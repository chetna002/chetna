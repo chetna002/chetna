{
 "cells": [
  {
   "cell_type": "code",
   "execution_count": 1,
   "id": "6df2ce46",
   "metadata": {},
   "outputs": [],
   "source": [
    "import numpy as np\n",
    "import pandas as pd"
   ]
  },
  {
   "cell_type": "code",
   "execution_count": 2,
   "id": "056e8448",
   "metadata": {
    "scrolled": true
   },
   "outputs": [],
   "source": [
    "df=pd.read_csv(r\"C:\\Users\\uzuma\\Downloads\\age_of_marriage_data.csv\")"
   ]
  },
  {
   "cell_type": "code",
   "execution_count": 3,
   "id": "b19333c7",
   "metadata": {},
   "outputs": [
    {
     "data": {
      "text/html": [
       "<div>\n",
       "<style scoped>\n",
       "    .dataframe tbody tr th:only-of-type {\n",
       "        vertical-align: middle;\n",
       "    }\n",
       "\n",
       "    .dataframe tbody tr th {\n",
       "        vertical-align: top;\n",
       "    }\n",
       "\n",
       "    .dataframe thead th {\n",
       "        text-align: right;\n",
       "    }\n",
       "</style>\n",
       "<table border=\"1\" class=\"dataframe\">\n",
       "  <thead>\n",
       "    <tr style=\"text-align: right;\">\n",
       "      <th></th>\n",
       "      <th>id</th>\n",
       "      <th>gender</th>\n",
       "      <th>height</th>\n",
       "      <th>religion</th>\n",
       "      <th>caste</th>\n",
       "      <th>mother_tongue</th>\n",
       "      <th>profession</th>\n",
       "      <th>location</th>\n",
       "      <th>country</th>\n",
       "      <th>age_of_marriage</th>\n",
       "    </tr>\n",
       "  </thead>\n",
       "  <tbody>\n",
       "    <tr>\n",
       "      <th>0</th>\n",
       "      <td>1</td>\n",
       "      <td>female</td>\n",
       "      <td>5'4\"</td>\n",
       "      <td>NaN</td>\n",
       "      <td>others</td>\n",
       "      <td>Telugu</td>\n",
       "      <td>NaN</td>\n",
       "      <td>London</td>\n",
       "      <td>United Kingdom</td>\n",
       "      <td>21.0</td>\n",
       "    </tr>\n",
       "    <tr>\n",
       "      <th>1</th>\n",
       "      <td>2</td>\n",
       "      <td>male</td>\n",
       "      <td>5'7\"</td>\n",
       "      <td>Jain</td>\n",
       "      <td>Shwetamber</td>\n",
       "      <td>Gujarati</td>\n",
       "      <td>Doctor / Healthcare Professional</td>\n",
       "      <td>Fairfax- VA</td>\n",
       "      <td>USA</td>\n",
       "      <td>32.0</td>\n",
       "    </tr>\n",
       "    <tr>\n",
       "      <th>2</th>\n",
       "      <td>3</td>\n",
       "      <td>male</td>\n",
       "      <td>5'7\"</td>\n",
       "      <td>Hindu</td>\n",
       "      <td>Brahmin</td>\n",
       "      <td>Hindi</td>\n",
       "      <td>Entrepreneurs / Business</td>\n",
       "      <td>Begusarai</td>\n",
       "      <td>India</td>\n",
       "      <td>32.0</td>\n",
       "    </tr>\n",
       "    <tr>\n",
       "      <th>3</th>\n",
       "      <td>4</td>\n",
       "      <td>female</td>\n",
       "      <td>5'0\"</td>\n",
       "      <td>Hindu</td>\n",
       "      <td>Thakur</td>\n",
       "      <td>Hindi</td>\n",
       "      <td>Architect</td>\n",
       "      <td>Mumbai</td>\n",
       "      <td>India</td>\n",
       "      <td>30.0</td>\n",
       "    </tr>\n",
       "    <tr>\n",
       "      <th>4</th>\n",
       "      <td>5</td>\n",
       "      <td>male</td>\n",
       "      <td>5'5\"</td>\n",
       "      <td>Christian</td>\n",
       "      <td>Born Again</td>\n",
       "      <td>Malayalam</td>\n",
       "      <td>Sales Professional / Marketing</td>\n",
       "      <td>Sulthan Bathery</td>\n",
       "      <td>India</td>\n",
       "      <td>30.0</td>\n",
       "    </tr>\n",
       "    <tr>\n",
       "      <th>...</th>\n",
       "      <td>...</td>\n",
       "      <td>...</td>\n",
       "      <td>...</td>\n",
       "      <td>...</td>\n",
       "      <td>...</td>\n",
       "      <td>...</td>\n",
       "      <td>...</td>\n",
       "      <td>...</td>\n",
       "      <td>...</td>\n",
       "      <td>...</td>\n",
       "    </tr>\n",
       "    <tr>\n",
       "      <th>2562</th>\n",
       "      <td>2563</td>\n",
       "      <td>female</td>\n",
       "      <td>5'3\"</td>\n",
       "      <td>Hindu</td>\n",
       "      <td>Thakur</td>\n",
       "      <td>Hindi</td>\n",
       "      <td>Banking Professional</td>\n",
       "      <td>Agra</td>\n",
       "      <td>India</td>\n",
       "      <td>27.0</td>\n",
       "    </tr>\n",
       "    <tr>\n",
       "      <th>2563</th>\n",
       "      <td>2564</td>\n",
       "      <td>male</td>\n",
       "      <td>5'11\"</td>\n",
       "      <td>Hindu</td>\n",
       "      <td>Thakur</td>\n",
       "      <td>Hindi</td>\n",
       "      <td>Software Professional</td>\n",
       "      <td>Ottawa</td>\n",
       "      <td>Canada</td>\n",
       "      <td>31.0</td>\n",
       "    </tr>\n",
       "    <tr>\n",
       "      <th>2564</th>\n",
       "      <td>2565</td>\n",
       "      <td>female</td>\n",
       "      <td>5'3\"</td>\n",
       "      <td>Hindu</td>\n",
       "      <td>Baishya</td>\n",
       "      <td>Bengali</td>\n",
       "      <td>Software Consultant</td>\n",
       "      <td>Bengaluru / Bangalore</td>\n",
       "      <td>India</td>\n",
       "      <td>28.0</td>\n",
       "    </tr>\n",
       "    <tr>\n",
       "      <th>2565</th>\n",
       "      <td>2566</td>\n",
       "      <td>female</td>\n",
       "      <td>4'11\"</td>\n",
       "      <td>NaN</td>\n",
       "      <td>others</td>\n",
       "      <td>Telugu</td>\n",
       "      <td>Not working</td>\n",
       "      <td>Hyderabad</td>\n",
       "      <td>India</td>\n",
       "      <td>26.0</td>\n",
       "    </tr>\n",
       "    <tr>\n",
       "      <th>2566</th>\n",
       "      <td>2567</td>\n",
       "      <td>female</td>\n",
       "      <td>5'2\"</td>\n",
       "      <td>Christian</td>\n",
       "      <td>Marthoma</td>\n",
       "      <td>Malayalam</td>\n",
       "      <td>Software Professional</td>\n",
       "      <td>Pune</td>\n",
       "      <td>India</td>\n",
       "      <td>32.0</td>\n",
       "    </tr>\n",
       "  </tbody>\n",
       "</table>\n",
       "<p>2567 rows × 10 columns</p>\n",
       "</div>"
      ],
      "text/plain": [
       "        id  gender height   religion        caste mother_tongue  \\\n",
       "0        1  female   5'4\"        NaN       others        Telugu   \n",
       "1        2    male   5'7\"       Jain   Shwetamber      Gujarati   \n",
       "2        3    male   5'7\"      Hindu      Brahmin         Hindi   \n",
       "3        4  female   5'0\"      Hindu       Thakur         Hindi   \n",
       "4        5    male   5'5\"  Christian   Born Again     Malayalam   \n",
       "...    ...     ...    ...        ...          ...           ...   \n",
       "2562  2563  female   5'3\"      Hindu       Thakur         Hindi   \n",
       "2563  2564    male  5'11\"      Hindu       Thakur         Hindi   \n",
       "2564  2565  female   5'3\"      Hindu      Baishya       Bengali   \n",
       "2565  2566  female  4'11\"        NaN       others        Telugu   \n",
       "2566  2567  female   5'2\"  Christian     Marthoma     Malayalam   \n",
       "\n",
       "                            profession               location  \\\n",
       "0                                  NaN                 London   \n",
       "1     Doctor / Healthcare Professional            Fairfax- VA   \n",
       "2            Entrepreneurs / Business               Begusarai   \n",
       "3                            Architect                 Mumbai   \n",
       "4       Sales Professional / Marketing        Sulthan Bathery   \n",
       "...                                ...                    ...   \n",
       "2562              Banking Professional                   Agra   \n",
       "2563             Software Professional                 Ottawa   \n",
       "2564               Software Consultant  Bengaluru / Bangalore   \n",
       "2565                       Not working              Hyderabad   \n",
       "2566             Software Professional                   Pune   \n",
       "\n",
       "              country  age_of_marriage  \n",
       "0      United Kingdom             21.0  \n",
       "1                 USA             32.0  \n",
       "2               India             32.0  \n",
       "3               India             30.0  \n",
       "4               India             30.0  \n",
       "...               ...              ...  \n",
       "2562            India             27.0  \n",
       "2563           Canada             31.0  \n",
       "2564            India             28.0  \n",
       "2565            India             26.0  \n",
       "2566            India             32.0  \n",
       "\n",
       "[2567 rows x 10 columns]"
      ]
     },
     "execution_count": 3,
     "metadata": {},
     "output_type": "execute_result"
    }
   ],
   "source": [
    "df"
   ]
  },
  {
   "cell_type": "code",
   "execution_count": 4,
   "id": "094fb833",
   "metadata": {},
   "outputs": [
    {
     "data": {
      "text/html": [
       "<div>\n",
       "<style scoped>\n",
       "    .dataframe tbody tr th:only-of-type {\n",
       "        vertical-align: middle;\n",
       "    }\n",
       "\n",
       "    .dataframe tbody tr th {\n",
       "        vertical-align: top;\n",
       "    }\n",
       "\n",
       "    .dataframe thead th {\n",
       "        text-align: right;\n",
       "    }\n",
       "</style>\n",
       "<table border=\"1\" class=\"dataframe\">\n",
       "  <thead>\n",
       "    <tr style=\"text-align: right;\">\n",
       "      <th></th>\n",
       "      <th>id</th>\n",
       "      <th>age_of_marriage</th>\n",
       "    </tr>\n",
       "  </thead>\n",
       "  <tbody>\n",
       "    <tr>\n",
       "      <th>count</th>\n",
       "      <td>2567.000000</td>\n",
       "      <td>2548.000000</td>\n",
       "    </tr>\n",
       "    <tr>\n",
       "      <th>mean</th>\n",
       "      <td>1284.000000</td>\n",
       "      <td>29.648352</td>\n",
       "    </tr>\n",
       "    <tr>\n",
       "      <th>std</th>\n",
       "      <td>741.173394</td>\n",
       "      <td>2.802414</td>\n",
       "    </tr>\n",
       "    <tr>\n",
       "      <th>min</th>\n",
       "      <td>1.000000</td>\n",
       "      <td>20.000000</td>\n",
       "    </tr>\n",
       "    <tr>\n",
       "      <th>25%</th>\n",
       "      <td>642.500000</td>\n",
       "      <td>28.000000</td>\n",
       "    </tr>\n",
       "    <tr>\n",
       "      <th>50%</th>\n",
       "      <td>1284.000000</td>\n",
       "      <td>30.000000</td>\n",
       "    </tr>\n",
       "    <tr>\n",
       "      <th>75%</th>\n",
       "      <td>1925.500000</td>\n",
       "      <td>32.000000</td>\n",
       "    </tr>\n",
       "    <tr>\n",
       "      <th>max</th>\n",
       "      <td>2567.000000</td>\n",
       "      <td>36.000000</td>\n",
       "    </tr>\n",
       "  </tbody>\n",
       "</table>\n",
       "</div>"
      ],
      "text/plain": [
       "                id  age_of_marriage\n",
       "count  2567.000000      2548.000000\n",
       "mean   1284.000000        29.648352\n",
       "std     741.173394         2.802414\n",
       "min       1.000000        20.000000\n",
       "25%     642.500000        28.000000\n",
       "50%    1284.000000        30.000000\n",
       "75%    1925.500000        32.000000\n",
       "max    2567.000000        36.000000"
      ]
     },
     "execution_count": 4,
     "metadata": {},
     "output_type": "execute_result"
    }
   ],
   "source": [
    "df.describe()"
   ]
  },
  {
   "cell_type": "code",
   "execution_count": 5,
   "id": "8c229782",
   "metadata": {},
   "outputs": [
    {
     "data": {
      "text/plain": [
       "id                   0\n",
       "gender              29\n",
       "height             118\n",
       "religion           635\n",
       "caste              142\n",
       "mother_tongue      164\n",
       "profession         330\n",
       "location           155\n",
       "country             16\n",
       "age_of_marriage     19\n",
       "dtype: int64"
      ]
     },
     "execution_count": 5,
     "metadata": {},
     "output_type": "execute_result"
    }
   ],
   "source": [
    "df.isna().sum()"
   ]
  },
  {
   "cell_type": "code",
   "execution_count": 6,
   "id": "003d80f7",
   "metadata": {},
   "outputs": [],
   "source": [
    "df[\"gender\"]=df[\"gender\"].ffill()"
   ]
  },
  {
   "cell_type": "code",
   "execution_count": 7,
   "id": "715d3c33",
   "metadata": {},
   "outputs": [
    {
     "data": {
      "text/plain": [
       "0       female\n",
       "1         male\n",
       "2         male\n",
       "3       female\n",
       "4         male\n",
       "         ...  \n",
       "2562    female\n",
       "2563      male\n",
       "2564    female\n",
       "2565    female\n",
       "2566    female\n",
       "Name: gender, Length: 2567, dtype: object"
      ]
     },
     "execution_count": 7,
     "metadata": {},
     "output_type": "execute_result"
    }
   ],
   "source": [
    "df[\"gender\"]"
   ]
  },
  {
   "cell_type": "code",
   "execution_count": 8,
   "id": "fe04e67f",
   "metadata": {},
   "outputs": [
    {
     "data": {
      "text/plain": [
       "0"
      ]
     },
     "execution_count": 8,
     "metadata": {},
     "output_type": "execute_result"
    }
   ],
   "source": [
    "df[\"gender\"].isna().sum()"
   ]
  },
  {
   "cell_type": "code",
   "execution_count": 9,
   "id": "22e15f36",
   "metadata": {},
   "outputs": [],
   "source": [
    "import re"
   ]
  },
  {
   "cell_type": "code",
   "execution_count": 10,
   "id": "6cdd994d",
   "metadata": {},
   "outputs": [
    {
     "data": {
      "text/plain": [
       "0        5'4\"\n",
       "1        5'7\"\n",
       "2        5'7\"\n",
       "3        5'0\"\n",
       "4        5'5\"\n",
       "        ...  \n",
       "2562     5'3\"\n",
       "2563    5'11\"\n",
       "2564     5'3\"\n",
       "2565    4'11\"\n",
       "2566     5'2\"\n",
       "Name: height, Length: 2567, dtype: object"
      ]
     },
     "execution_count": 10,
     "metadata": {},
     "output_type": "execute_result"
    }
   ],
   "source": [
    "df[\"height\"]"
   ]
  },
  {
   "cell_type": "code",
   "execution_count": 11,
   "id": "0bf57a9f",
   "metadata": {},
   "outputs": [],
   "source": [
    "df[\"height\"]=df[\"height\"].ffill()"
   ]
  },
  {
   "cell_type": "code",
   "execution_count": 12,
   "id": "5558e21b",
   "metadata": {},
   "outputs": [],
   "source": [
    "df[\"height\"]=df['height'].astype(str).str.replace(\"'\",'.')"
   ]
  },
  {
   "cell_type": "code",
   "execution_count": 13,
   "id": "3939e5d2",
   "metadata": {},
   "outputs": [],
   "source": [
    "df[\"height\"]=df['height'].astype(str).str.replace('\"','')"
   ]
  },
  {
   "cell_type": "code",
   "execution_count": 14,
   "id": "a5a7ee00",
   "metadata": {},
   "outputs": [
    {
     "data": {
      "text/plain": [
       "0        5.4\n",
       "1        5.7\n",
       "2        5.7\n",
       "3        5.0\n",
       "4        5.5\n",
       "        ... \n",
       "2562     5.3\n",
       "2563    5.11\n",
       "2564     5.3\n",
       "2565    4.11\n",
       "2566     5.2\n",
       "Name: height, Length: 2567, dtype: object"
      ]
     },
     "execution_count": 14,
     "metadata": {},
     "output_type": "execute_result"
    }
   ],
   "source": [
    "df[\"height\"]"
   ]
  },
  {
   "cell_type": "code",
   "execution_count": 15,
   "id": "33b711f1",
   "metadata": {},
   "outputs": [
    {
     "data": {
      "text/plain": [
       "0             NaN\n",
       "1            Jain\n",
       "2           Hindu\n",
       "3           Hindu\n",
       "4       Christian\n",
       "          ...    \n",
       "2562        Hindu\n",
       "2563        Hindu\n",
       "2564        Hindu\n",
       "2565          NaN\n",
       "2566    Christian\n",
       "Name: religion, Length: 2567, dtype: object"
      ]
     },
     "execution_count": 15,
     "metadata": {},
     "output_type": "execute_result"
    }
   ],
   "source": [
    "df[\"religion\"]"
   ]
  },
  {
   "cell_type": "code",
   "execution_count": 16,
   "id": "200ea487",
   "metadata": {},
   "outputs": [],
   "source": [
    "df[\"religion\"]=df[\"religion\"].bfill()"
   ]
  },
  {
   "cell_type": "code",
   "execution_count": 17,
   "id": "637a92ec",
   "metadata": {},
   "outputs": [
    {
     "data": {
      "text/plain": [
       "0            Jain\n",
       "1            Jain\n",
       "2           Hindu\n",
       "3           Hindu\n",
       "4       Christian\n",
       "          ...    \n",
       "2562        Hindu\n",
       "2563        Hindu\n",
       "2564        Hindu\n",
       "2565    Christian\n",
       "2566    Christian\n",
       "Name: religion, Length: 2567, dtype: object"
      ]
     },
     "execution_count": 17,
     "metadata": {},
     "output_type": "execute_result"
    }
   ],
   "source": [
    "df[\"religion\"]\n"
   ]
  },
  {
   "cell_type": "code",
   "execution_count": 18,
   "id": "31eb8152",
   "metadata": {},
   "outputs": [
    {
     "data": {
      "text/plain": [
       "0"
      ]
     },
     "execution_count": 18,
     "metadata": {},
     "output_type": "execute_result"
    }
   ],
   "source": [
    "df[\"religion\"].isna().sum()"
   ]
  },
  {
   "cell_type": "code",
   "execution_count": 19,
   "id": "e6c7a071",
   "metadata": {},
   "outputs": [
    {
     "data": {
      "text/plain": [
       "0            others\n",
       "1        Shwetamber\n",
       "2           Brahmin\n",
       "3            Thakur\n",
       "4        Born Again\n",
       "           ...     \n",
       "2562         Thakur\n",
       "2563         Thakur\n",
       "2564        Baishya\n",
       "2565         others\n",
       "2566       Marthoma\n",
       "Name: caste, Length: 2567, dtype: object"
      ]
     },
     "execution_count": 19,
     "metadata": {},
     "output_type": "execute_result"
    }
   ],
   "source": [
    "df[\"caste\"]"
   ]
  },
  {
   "cell_type": "code",
   "execution_count": 20,
   "id": "10f28c86",
   "metadata": {},
   "outputs": [],
   "source": [
    "df[\"caste\"]=df[\"caste\"].ffill()"
   ]
  },
  {
   "cell_type": "code",
   "execution_count": 21,
   "id": "677b0a70",
   "metadata": {},
   "outputs": [
    {
     "data": {
      "text/plain": [
       "0"
      ]
     },
     "execution_count": 21,
     "metadata": {},
     "output_type": "execute_result"
    }
   ],
   "source": [
    "df[\"caste\"].isna().sum()"
   ]
  },
  {
   "cell_type": "code",
   "execution_count": 22,
   "id": "49000dc1",
   "metadata": {},
   "outputs": [
    {
     "data": {
      "text/plain": [
       "0          Telugu\n",
       "1        Gujarati\n",
       "2           Hindi\n",
       "3           Hindi\n",
       "4       Malayalam\n",
       "          ...    \n",
       "2562        Hindi\n",
       "2563        Hindi\n",
       "2564      Bengali\n",
       "2565       Telugu\n",
       "2566    Malayalam\n",
       "Name: mother_tongue, Length: 2567, dtype: object"
      ]
     },
     "execution_count": 22,
     "metadata": {},
     "output_type": "execute_result"
    }
   ],
   "source": [
    "df[\"mother_tongue\"]"
   ]
  },
  {
   "cell_type": "code",
   "execution_count": 23,
   "id": "c0125e4b",
   "metadata": {},
   "outputs": [],
   "source": [
    "df[\"mother_tongue\"]=df[\"mother_tongue\"].ffill()"
   ]
  },
  {
   "cell_type": "code",
   "execution_count": 24,
   "id": "4d5d38bb",
   "metadata": {},
   "outputs": [
    {
     "data": {
      "text/plain": [
       "0"
      ]
     },
     "execution_count": 24,
     "metadata": {},
     "output_type": "execute_result"
    }
   ],
   "source": [
    "df[\"mother_tongue\"].isna().sum()"
   ]
  },
  {
   "cell_type": "code",
   "execution_count": 25,
   "id": "c0547420",
   "metadata": {},
   "outputs": [
    {
     "data": {
      "text/plain": [
       "0                                    NaN\n",
       "1       Doctor / Healthcare Professional\n",
       "2              Entrepreneurs / Business \n",
       "3                              Architect\n",
       "4         Sales Professional / Marketing\n",
       "                      ...               \n",
       "2562                Banking Professional\n",
       "2563               Software Professional\n",
       "2564                 Software Consultant\n",
       "2565                         Not working\n",
       "2566               Software Professional\n",
       "Name: profession, Length: 2567, dtype: object"
      ]
     },
     "execution_count": 25,
     "metadata": {},
     "output_type": "execute_result"
    }
   ],
   "source": [
    "df[\"profession\"]"
   ]
  },
  {
   "cell_type": "code",
   "execution_count": 26,
   "id": "6c0fafdd",
   "metadata": {},
   "outputs": [],
   "source": [
    "df[\"profession\"]=df[\"profession\"].bfill()"
   ]
  },
  {
   "cell_type": "code",
   "execution_count": 27,
   "id": "9c9674c6",
   "metadata": {},
   "outputs": [
    {
     "data": {
      "text/plain": [
       "0"
      ]
     },
     "execution_count": 27,
     "metadata": {},
     "output_type": "execute_result"
    }
   ],
   "source": [
    "df[\"profession\"].isna().sum()"
   ]
  },
  {
   "cell_type": "code",
   "execution_count": 28,
   "id": "3a482443",
   "metadata": {},
   "outputs": [
    {
     "data": {
      "text/plain": [
       "0                      London\n",
       "1                 Fairfax- VA\n",
       "2                   Begusarai\n",
       "3                      Mumbai\n",
       "4             Sulthan Bathery\n",
       "                ...          \n",
       "2562                     Agra\n",
       "2563                   Ottawa\n",
       "2564    Bengaluru / Bangalore\n",
       "2565                Hyderabad\n",
       "2566                     Pune\n",
       "Name: location, Length: 2567, dtype: object"
      ]
     },
     "execution_count": 28,
     "metadata": {},
     "output_type": "execute_result"
    }
   ],
   "source": [
    "df[\"location\"]"
   ]
  },
  {
   "cell_type": "code",
   "execution_count": 29,
   "id": "740548ae",
   "metadata": {},
   "outputs": [],
   "source": [
    "df[\"location\"]=df[\"location\"].ffill()"
   ]
  },
  {
   "cell_type": "code",
   "execution_count": 30,
   "id": "1d1691a7",
   "metadata": {},
   "outputs": [
    {
     "data": {
      "text/plain": [
       "0"
      ]
     },
     "execution_count": 30,
     "metadata": {},
     "output_type": "execute_result"
    }
   ],
   "source": [
    "df[\"location\"].isna().sum()"
   ]
  },
  {
   "cell_type": "code",
   "execution_count": 31,
   "id": "1a2e922e",
   "metadata": {},
   "outputs": [
    {
     "data": {
      "text/plain": [
       "0        United Kingdom\n",
       "1                   USA\n",
       "2                 India\n",
       "3                 India\n",
       "4                 India\n",
       "             ...       \n",
       "2562              India\n",
       "2563             Canada\n",
       "2564              India\n",
       "2565              India\n",
       "2566              India\n",
       "Name: country, Length: 2567, dtype: object"
      ]
     },
     "execution_count": 31,
     "metadata": {},
     "output_type": "execute_result"
    }
   ],
   "source": [
    "df[\"country\"]"
   ]
  },
  {
   "cell_type": "code",
   "execution_count": 32,
   "id": "1ee7e623",
   "metadata": {},
   "outputs": [],
   "source": [
    "df[\"country\"]=df[\"country\"].ffill()"
   ]
  },
  {
   "cell_type": "code",
   "execution_count": 33,
   "id": "4c7650cc",
   "metadata": {},
   "outputs": [
    {
     "data": {
      "text/plain": [
       "0"
      ]
     },
     "execution_count": 33,
     "metadata": {},
     "output_type": "execute_result"
    }
   ],
   "source": [
    "df[\"country\"].isna().sum()"
   ]
  },
  {
   "cell_type": "code",
   "execution_count": 34,
   "id": "dbb45169",
   "metadata": {},
   "outputs": [
    {
     "data": {
      "text/plain": [
       "0       21.0\n",
       "1       32.0\n",
       "2       32.0\n",
       "3       30.0\n",
       "4       30.0\n",
       "        ... \n",
       "2562    27.0\n",
       "2563    31.0\n",
       "2564    28.0\n",
       "2565    26.0\n",
       "2566    32.0\n",
       "Name: age_of_marriage, Length: 2567, dtype: float64"
      ]
     },
     "execution_count": 34,
     "metadata": {},
     "output_type": "execute_result"
    }
   ],
   "source": [
    "df[\"age_of_marriage\"]"
   ]
  },
  {
   "cell_type": "code",
   "execution_count": 35,
   "id": "055e9df8",
   "metadata": {},
   "outputs": [],
   "source": [
    "df[\"age_of_marriage\"]=df[\"age_of_marriage\"].ffill()"
   ]
  },
  {
   "cell_type": "code",
   "execution_count": 36,
   "id": "1b1a1135",
   "metadata": {},
   "outputs": [
    {
     "data": {
      "text/plain": [
       "0"
      ]
     },
     "execution_count": 36,
     "metadata": {},
     "output_type": "execute_result"
    }
   ],
   "source": [
    "df[\"age_of_marriage\"].isna().sum()"
   ]
  },
  {
   "cell_type": "code",
   "execution_count": 37,
   "id": "dd4918cf",
   "metadata": {},
   "outputs": [],
   "source": [
    "mini=df[\"age_of_marriage\"].min()\n",
    "Q1=df[\"age_of_marriage\"].quantile(0.25)\n",
    "Q2=df[\"age_of_marriage\"].quantile(0.50)\n",
    "Q3=df[\"age_of_marriage\"].quantile(0.75)\n",
    "Max=df[\"age_of_marriage\"].max()\n",
    " \n",
    "IQR=Q3-Q1\n",
    "Upper_fence=Q3+(1.5*IQR)\n",
    "Lower_fence=Q1-(1.5*IQR)"
   ]
  },
  {
   "cell_type": "code",
   "execution_count": 38,
   "id": "e69edd93",
   "metadata": {},
   "outputs": [
    {
     "name": "stdout",
     "output_type": "stream",
     "text": [
      "Upper- 38.0\n",
      "Lower- 22.0\n"
     ]
    }
   ],
   "source": [
    "print(\"Upper-\",Upper_fence)\n",
    "print(\"Lower-\",Lower_fence)"
   ]
  },
  {
   "cell_type": "code",
   "execution_count": 39,
   "id": "fc398b7d",
   "metadata": {},
   "outputs": [
    {
     "data": {
      "text/html": [
       "<div>\n",
       "<style scoped>\n",
       "    .dataframe tbody tr th:only-of-type {\n",
       "        vertical-align: middle;\n",
       "    }\n",
       "\n",
       "    .dataframe tbody tr th {\n",
       "        vertical-align: top;\n",
       "    }\n",
       "\n",
       "    .dataframe thead th {\n",
       "        text-align: right;\n",
       "    }\n",
       "</style>\n",
       "<table border=\"1\" class=\"dataframe\">\n",
       "  <thead>\n",
       "    <tr style=\"text-align: right;\">\n",
       "      <th></th>\n",
       "      <th>id</th>\n",
       "      <th>gender</th>\n",
       "      <th>height</th>\n",
       "      <th>religion</th>\n",
       "      <th>caste</th>\n",
       "      <th>mother_tongue</th>\n",
       "      <th>profession</th>\n",
       "      <th>location</th>\n",
       "      <th>country</th>\n",
       "      <th>age_of_marriage</th>\n",
       "    </tr>\n",
       "  </thead>\n",
       "  <tbody>\n",
       "    <tr>\n",
       "      <th>0</th>\n",
       "      <td>1</td>\n",
       "      <td>female</td>\n",
       "      <td>5.4</td>\n",
       "      <td>Jain</td>\n",
       "      <td>others</td>\n",
       "      <td>Telugu</td>\n",
       "      <td>Doctor / Healthcare Professional</td>\n",
       "      <td>London</td>\n",
       "      <td>United Kingdom</td>\n",
       "      <td>21.0</td>\n",
       "    </tr>\n",
       "    <tr>\n",
       "      <th>21</th>\n",
       "      <td>22</td>\n",
       "      <td>female</td>\n",
       "      <td>4.5</td>\n",
       "      <td>Hindu</td>\n",
       "      <td>others</td>\n",
       "      <td>Bengali</td>\n",
       "      <td>Not working</td>\n",
       "      <td>Midnapore</td>\n",
       "      <td>India</td>\n",
       "      <td>20.0</td>\n",
       "    </tr>\n",
       "    <tr>\n",
       "      <th>157</th>\n",
       "      <td>158</td>\n",
       "      <td>female</td>\n",
       "      <td>5.3</td>\n",
       "      <td>Hindu</td>\n",
       "      <td>others</td>\n",
       "      <td>Bengali</td>\n",
       "      <td>Mechanical / Production Engineer</td>\n",
       "      <td>Midnapore</td>\n",
       "      <td>India</td>\n",
       "      <td>20.0</td>\n",
       "    </tr>\n",
       "    <tr>\n",
       "      <th>373</th>\n",
       "      <td>374</td>\n",
       "      <td>female</td>\n",
       "      <td>4.5</td>\n",
       "      <td>Hindu</td>\n",
       "      <td>others</td>\n",
       "      <td>Hindi</td>\n",
       "      <td>Not Specified</td>\n",
       "      <td>Bihar Sharif</td>\n",
       "      <td>India</td>\n",
       "      <td>21.0</td>\n",
       "    </tr>\n",
       "    <tr>\n",
       "      <th>539</th>\n",
       "      <td>540</td>\n",
       "      <td>male</td>\n",
       "      <td>5.3</td>\n",
       "      <td>Hindu</td>\n",
       "      <td>others</td>\n",
       "      <td>Telugu</td>\n",
       "      <td>Admin Professional</td>\n",
       "      <td>Chennai</td>\n",
       "      <td>India</td>\n",
       "      <td>21.0</td>\n",
       "    </tr>\n",
       "    <tr>\n",
       "      <th>781</th>\n",
       "      <td>782</td>\n",
       "      <td>male</td>\n",
       "      <td>5.0</td>\n",
       "      <td>Hindu</td>\n",
       "      <td>others</td>\n",
       "      <td>Tamil</td>\n",
       "      <td>Mechanical / Production Engineer</td>\n",
       "      <td>Pilibhit</td>\n",
       "      <td>India</td>\n",
       "      <td>21.0</td>\n",
       "    </tr>\n",
       "    <tr>\n",
       "      <th>852</th>\n",
       "      <td>853</td>\n",
       "      <td>male</td>\n",
       "      <td>4.5</td>\n",
       "      <td>Hindu</td>\n",
       "      <td>others</td>\n",
       "      <td>Hindi</td>\n",
       "      <td>Medical / Healthcare Professional (Others)</td>\n",
       "      <td>Haveri</td>\n",
       "      <td>India</td>\n",
       "      <td>21.0</td>\n",
       "    </tr>\n",
       "    <tr>\n",
       "      <th>856</th>\n",
       "      <td>857</td>\n",
       "      <td>male</td>\n",
       "      <td>5.11</td>\n",
       "      <td>Sikh</td>\n",
       "      <td>others</td>\n",
       "      <td>Hindi</td>\n",
       "      <td>Actor</td>\n",
       "      <td>Bihar Sharif</td>\n",
       "      <td>India</td>\n",
       "      <td>21.0</td>\n",
       "    </tr>\n",
       "    <tr>\n",
       "      <th>1029</th>\n",
       "      <td>1030</td>\n",
       "      <td>female</td>\n",
       "      <td>5.8</td>\n",
       "      <td>Hindu</td>\n",
       "      <td>others</td>\n",
       "      <td>Marathi</td>\n",
       "      <td>Dentist</td>\n",
       "      <td>Akola</td>\n",
       "      <td>India</td>\n",
       "      <td>21.0</td>\n",
       "    </tr>\n",
       "    <tr>\n",
       "      <th>1066</th>\n",
       "      <td>1067</td>\n",
       "      <td>female</td>\n",
       "      <td>5.4</td>\n",
       "      <td>Jain</td>\n",
       "      <td>others</td>\n",
       "      <td>Telugu</td>\n",
       "      <td>Managers and Senior Executives</td>\n",
       "      <td>Mumbai</td>\n",
       "      <td>India</td>\n",
       "      <td>20.0</td>\n",
       "    </tr>\n",
       "    <tr>\n",
       "      <th>1098</th>\n",
       "      <td>1099</td>\n",
       "      <td>female</td>\n",
       "      <td>4.11</td>\n",
       "      <td>Hindu</td>\n",
       "      <td>others</td>\n",
       "      <td>Marathi</td>\n",
       "      <td>Banking Professional</td>\n",
       "      <td>Jalgaon</td>\n",
       "      <td>India</td>\n",
       "      <td>20.0</td>\n",
       "    </tr>\n",
       "    <tr>\n",
       "      <th>1129</th>\n",
       "      <td>1130</td>\n",
       "      <td>female</td>\n",
       "      <td>5.4</td>\n",
       "      <td>Hindu</td>\n",
       "      <td>others</td>\n",
       "      <td>Bengali</td>\n",
       "      <td>Not working</td>\n",
       "      <td>Bardhaman</td>\n",
       "      <td>India</td>\n",
       "      <td>21.0</td>\n",
       "    </tr>\n",
       "    <tr>\n",
       "      <th>1146</th>\n",
       "      <td>1147</td>\n",
       "      <td>male</td>\n",
       "      <td>4.5</td>\n",
       "      <td>Hindu</td>\n",
       "      <td>Lingayath</td>\n",
       "      <td>Hindi</td>\n",
       "      <td>Not working</td>\n",
       "      <td>Pali</td>\n",
       "      <td>India</td>\n",
       "      <td>21.0</td>\n",
       "    </tr>\n",
       "    <tr>\n",
       "      <th>1189</th>\n",
       "      <td>1190</td>\n",
       "      <td>male</td>\n",
       "      <td>4.9</td>\n",
       "      <td>Hindu</td>\n",
       "      <td>others</td>\n",
       "      <td>Bengali</td>\n",
       "      <td>Banking Professional</td>\n",
       "      <td>Bengaluru / Bangalore</td>\n",
       "      <td>India</td>\n",
       "      <td>21.0</td>\n",
       "    </tr>\n",
       "    <tr>\n",
       "      <th>1247</th>\n",
       "      <td>1248</td>\n",
       "      <td>female</td>\n",
       "      <td>5.3</td>\n",
       "      <td>Hindu</td>\n",
       "      <td>others</td>\n",
       "      <td>Hindi</td>\n",
       "      <td>Not working</td>\n",
       "      <td>Raipur</td>\n",
       "      <td>India</td>\n",
       "      <td>21.0</td>\n",
       "    </tr>\n",
       "    <tr>\n",
       "      <th>1353</th>\n",
       "      <td>1354</td>\n",
       "      <td>male</td>\n",
       "      <td>6.5</td>\n",
       "      <td>Hindu</td>\n",
       "      <td>others</td>\n",
       "      <td>Hindi</td>\n",
       "      <td>Not working</td>\n",
       "      <td>Jodhpur</td>\n",
       "      <td>India</td>\n",
       "      <td>21.0</td>\n",
       "    </tr>\n",
       "    <tr>\n",
       "      <th>1408</th>\n",
       "      <td>1409</td>\n",
       "      <td>male</td>\n",
       "      <td>5.0</td>\n",
       "      <td>Christian</td>\n",
       "      <td>others</td>\n",
       "      <td>Tamil</td>\n",
       "      <td>Agricultural Professional (Others)</td>\n",
       "      <td>Dharmapuri</td>\n",
       "      <td>India</td>\n",
       "      <td>21.0</td>\n",
       "    </tr>\n",
       "    <tr>\n",
       "      <th>1573</th>\n",
       "      <td>1574</td>\n",
       "      <td>female</td>\n",
       "      <td>5.6</td>\n",
       "      <td>Hindu</td>\n",
       "      <td>others</td>\n",
       "      <td>Hindi</td>\n",
       "      <td>Banking Professional</td>\n",
       "      <td>Muzaffarnagar</td>\n",
       "      <td>India</td>\n",
       "      <td>20.0</td>\n",
       "    </tr>\n",
       "    <tr>\n",
       "      <th>1697</th>\n",
       "      <td>1698</td>\n",
       "      <td>female</td>\n",
       "      <td>5.3</td>\n",
       "      <td>Hindu</td>\n",
       "      <td>others</td>\n",
       "      <td>Hindi</td>\n",
       "      <td>Doctor / Healthcare Professional</td>\n",
       "      <td>Karauli</td>\n",
       "      <td>India</td>\n",
       "      <td>20.0</td>\n",
       "    </tr>\n",
       "    <tr>\n",
       "      <th>1766</th>\n",
       "      <td>1767</td>\n",
       "      <td>male</td>\n",
       "      <td>5.1</td>\n",
       "      <td>Hindu</td>\n",
       "      <td>Kayastha</td>\n",
       "      <td>Hindi</td>\n",
       "      <td>Finance Professional</td>\n",
       "      <td>Midnapore</td>\n",
       "      <td>India</td>\n",
       "      <td>21.0</td>\n",
       "    </tr>\n",
       "    <tr>\n",
       "      <th>1923</th>\n",
       "      <td>1924</td>\n",
       "      <td>female</td>\n",
       "      <td>5.4</td>\n",
       "      <td>Hindu</td>\n",
       "      <td>others</td>\n",
       "      <td>Hindi</td>\n",
       "      <td>Writer</td>\n",
       "      <td>Howra</td>\n",
       "      <td>India</td>\n",
       "      <td>21.0</td>\n",
       "    </tr>\n",
       "    <tr>\n",
       "      <th>1931</th>\n",
       "      <td>1932</td>\n",
       "      <td>female</td>\n",
       "      <td>5.3</td>\n",
       "      <td>Sikh</td>\n",
       "      <td>Bhandari</td>\n",
       "      <td>Marathi</td>\n",
       "      <td>Teacher</td>\n",
       "      <td>Ahmedabad</td>\n",
       "      <td>India</td>\n",
       "      <td>20.0</td>\n",
       "    </tr>\n",
       "    <tr>\n",
       "      <th>2023</th>\n",
       "      <td>2024</td>\n",
       "      <td>male</td>\n",
       "      <td>4.5</td>\n",
       "      <td>Hindu</td>\n",
       "      <td>others</td>\n",
       "      <td>Tamil</td>\n",
       "      <td>Admin Professional</td>\n",
       "      <td>Chennai</td>\n",
       "      <td>India</td>\n",
       "      <td>21.0</td>\n",
       "    </tr>\n",
       "    <tr>\n",
       "      <th>2222</th>\n",
       "      <td>2223</td>\n",
       "      <td>male</td>\n",
       "      <td>4.6</td>\n",
       "      <td>Hindu</td>\n",
       "      <td>others</td>\n",
       "      <td>Hindi</td>\n",
       "      <td>Sales Professional / Marketing</td>\n",
       "      <td>Sitamarhi</td>\n",
       "      <td>India</td>\n",
       "      <td>21.0</td>\n",
       "    </tr>\n",
       "    <tr>\n",
       "      <th>2227</th>\n",
       "      <td>2228</td>\n",
       "      <td>female</td>\n",
       "      <td>5.5</td>\n",
       "      <td>Jain</td>\n",
       "      <td>others</td>\n",
       "      <td>Malayalam</td>\n",
       "      <td>Not Specified</td>\n",
       "      <td>Abu Dhabi</td>\n",
       "      <td>United Arab Emirates</td>\n",
       "      <td>20.0</td>\n",
       "    </tr>\n",
       "    <tr>\n",
       "      <th>2398</th>\n",
       "      <td>2399</td>\n",
       "      <td>male</td>\n",
       "      <td>6.0</td>\n",
       "      <td>Hindu</td>\n",
       "      <td>others</td>\n",
       "      <td>Tamil</td>\n",
       "      <td>Managers and Senior Executives</td>\n",
       "      <td>Coimbatore</td>\n",
       "      <td>India</td>\n",
       "      <td>21.0</td>\n",
       "    </tr>\n",
       "    <tr>\n",
       "      <th>2405</th>\n",
       "      <td>2406</td>\n",
       "      <td>male</td>\n",
       "      <td>4.11</td>\n",
       "      <td>Sikh</td>\n",
       "      <td>others</td>\n",
       "      <td>Hindi</td>\n",
       "      <td>Not Specified</td>\n",
       "      <td>Vadodara</td>\n",
       "      <td>India</td>\n",
       "      <td>21.0</td>\n",
       "    </tr>\n",
       "  </tbody>\n",
       "</table>\n",
       "</div>"
      ],
      "text/plain": [
       "        id  gender height   religion       caste mother_tongue  \\\n",
       "0        1  female    5.4       Jain      others        Telugu   \n",
       "21      22  female    4.5      Hindu      others       Bengali   \n",
       "157    158  female    5.3      Hindu      others       Bengali   \n",
       "373    374  female    4.5      Hindu      others         Hindi   \n",
       "539    540    male    5.3      Hindu      others        Telugu   \n",
       "781    782    male    5.0      Hindu      others         Tamil   \n",
       "852    853    male    4.5      Hindu      others         Hindi   \n",
       "856    857    male   5.11       Sikh      others         Hindi   \n",
       "1029  1030  female    5.8      Hindu      others       Marathi   \n",
       "1066  1067  female    5.4       Jain      others        Telugu   \n",
       "1098  1099  female   4.11      Hindu      others       Marathi   \n",
       "1129  1130  female    5.4      Hindu      others       Bengali   \n",
       "1146  1147    male    4.5      Hindu   Lingayath         Hindi   \n",
       "1189  1190    male    4.9      Hindu      others       Bengali   \n",
       "1247  1248  female    5.3      Hindu      others         Hindi   \n",
       "1353  1354    male    6.5      Hindu      others         Hindi   \n",
       "1408  1409    male    5.0  Christian      others         Tamil   \n",
       "1573  1574  female    5.6      Hindu      others         Hindi   \n",
       "1697  1698  female    5.3      Hindu      others         Hindi   \n",
       "1766  1767    male    5.1      Hindu    Kayastha         Hindi   \n",
       "1923  1924  female    5.4      Hindu      others         Hindi   \n",
       "1931  1932  female    5.3       Sikh    Bhandari       Marathi   \n",
       "2023  2024    male    4.5      Hindu      others         Tamil   \n",
       "2222  2223    male    4.6      Hindu      others         Hindi   \n",
       "2227  2228  female    5.5       Jain      others     Malayalam   \n",
       "2398  2399    male    6.0      Hindu      others         Tamil   \n",
       "2405  2406    male   4.11       Sikh      others         Hindi   \n",
       "\n",
       "                                      profession               location  \\\n",
       "0               Doctor / Healthcare Professional                 London   \n",
       "21                                   Not working              Midnapore   \n",
       "157             Mechanical / Production Engineer              Midnapore   \n",
       "373                                Not Specified           Bihar Sharif   \n",
       "539                           Admin Professional                Chennai   \n",
       "781             Mechanical / Production Engineer               Pilibhit   \n",
       "852   Medical / Healthcare Professional (Others)                 Haveri   \n",
       "856                                        Actor           Bihar Sharif   \n",
       "1029                                     Dentist                  Akola   \n",
       "1066              Managers and Senior Executives                 Mumbai   \n",
       "1098                        Banking Professional                Jalgaon   \n",
       "1129                                 Not working              Bardhaman   \n",
       "1146                                 Not working                   Pali   \n",
       "1189                        Banking Professional  Bengaluru / Bangalore   \n",
       "1247                                 Not working                 Raipur   \n",
       "1353                                 Not working                Jodhpur   \n",
       "1408          Agricultural Professional (Others)             Dharmapuri   \n",
       "1573                        Banking Professional          Muzaffarnagar   \n",
       "1697            Doctor / Healthcare Professional                Karauli   \n",
       "1766                        Finance Professional              Midnapore   \n",
       "1923                                      Writer                  Howra   \n",
       "1931                                     Teacher              Ahmedabad   \n",
       "2023                          Admin Professional                Chennai   \n",
       "2222              Sales Professional / Marketing              Sitamarhi   \n",
       "2227                               Not Specified              Abu Dhabi   \n",
       "2398              Managers and Senior Executives             Coimbatore   \n",
       "2405                               Not Specified               Vadodara   \n",
       "\n",
       "                    country  age_of_marriage  \n",
       "0            United Kingdom             21.0  \n",
       "21                    India             20.0  \n",
       "157                   India             20.0  \n",
       "373                   India             21.0  \n",
       "539                   India             21.0  \n",
       "781                   India             21.0  \n",
       "852                   India             21.0  \n",
       "856                   India             21.0  \n",
       "1029                  India             21.0  \n",
       "1066                  India             20.0  \n",
       "1098                  India             20.0  \n",
       "1129                  India             21.0  \n",
       "1146                  India             21.0  \n",
       "1189                  India             21.0  \n",
       "1247                  India             21.0  \n",
       "1353                  India             21.0  \n",
       "1408                  India             21.0  \n",
       "1573                  India             20.0  \n",
       "1697                  India             20.0  \n",
       "1766                  India             21.0  \n",
       "1923                  India             21.0  \n",
       "1931                  India             20.0  \n",
       "2023                  India             21.0  \n",
       "2222                  India             21.0  \n",
       "2227   United Arab Emirates             20.0  \n",
       "2398                  India             21.0  \n",
       "2405                  India             21.0  "
      ]
     },
     "execution_count": 39,
     "metadata": {},
     "output_type": "execute_result"
    }
   ],
   "source": [
    "df[df[\"age_of_marriage\"]<Lower_fence]"
   ]
  },
  {
   "cell_type": "code",
   "execution_count": 40,
   "id": "695d3ec0",
   "metadata": {},
   "outputs": [],
   "source": [
    "df.loc[df[\"age_of_marriage\"]<Lower_fence,\"age_of_marriage\"]=30"
   ]
  },
  {
   "cell_type": "code",
   "execution_count": 41,
   "id": "28e5328f",
   "metadata": {},
   "outputs": [
    {
     "data": {
      "text/html": [
       "<div>\n",
       "<style scoped>\n",
       "    .dataframe tbody tr th:only-of-type {\n",
       "        vertical-align: middle;\n",
       "    }\n",
       "\n",
       "    .dataframe tbody tr th {\n",
       "        vertical-align: top;\n",
       "    }\n",
       "\n",
       "    .dataframe thead th {\n",
       "        text-align: right;\n",
       "    }\n",
       "</style>\n",
       "<table border=\"1\" class=\"dataframe\">\n",
       "  <thead>\n",
       "    <tr style=\"text-align: right;\">\n",
       "      <th></th>\n",
       "      <th>id</th>\n",
       "      <th>gender</th>\n",
       "      <th>height</th>\n",
       "      <th>religion</th>\n",
       "      <th>caste</th>\n",
       "      <th>mother_tongue</th>\n",
       "      <th>profession</th>\n",
       "      <th>location</th>\n",
       "      <th>country</th>\n",
       "      <th>age_of_marriage</th>\n",
       "    </tr>\n",
       "  </thead>\n",
       "  <tbody>\n",
       "  </tbody>\n",
       "</table>\n",
       "</div>"
      ],
      "text/plain": [
       "Empty DataFrame\n",
       "Columns: [id, gender, height, religion, caste, mother_tongue, profession, location, country, age_of_marriage]\n",
       "Index: []"
      ]
     },
     "execution_count": 41,
     "metadata": {},
     "output_type": "execute_result"
    }
   ],
   "source": [
    "df[df[\"age_of_marriage\"]<Lower_fence]"
   ]
  },
  {
   "cell_type": "code",
   "execution_count": 42,
   "id": "b9a9304c",
   "metadata": {},
   "outputs": [
    {
     "data": {
      "text/plain": [
       "id                 0\n",
       "gender             0\n",
       "height             0\n",
       "religion           0\n",
       "caste              0\n",
       "mother_tongue      0\n",
       "profession         0\n",
       "location           0\n",
       "country            0\n",
       "age_of_marriage    0\n",
       "dtype: int64"
      ]
     },
     "execution_count": 42,
     "metadata": {},
     "output_type": "execute_result"
    }
   ],
   "source": [
    "df.isna().sum()"
   ]
  },
  {
   "cell_type": "code",
   "execution_count": null,
   "id": "2ea8b022",
   "metadata": {},
   "outputs": [],
   "source": []
  },
  {
   "cell_type": "code",
   "execution_count": null,
   "id": "0267a894",
   "metadata": {},
   "outputs": [],
   "source": []
  }
 ],
 "metadata": {
  "kernelspec": {
   "display_name": "Python 3 (ipykernel)",
   "language": "python",
   "name": "python3"
  },
  "language_info": {
   "codemirror_mode": {
    "name": "ipython",
    "version": 3
   },
   "file_extension": ".py",
   "mimetype": "text/x-python",
   "name": "python",
   "nbconvert_exporter": "python",
   "pygments_lexer": "ipython3",
   "version": "3.11.5"
  }
 },
 "nbformat": 4,
 "nbformat_minor": 5
}
